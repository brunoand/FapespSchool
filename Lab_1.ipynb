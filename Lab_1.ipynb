{
 "cells": [
  {
   "cell_type": "code",
   "execution_count": 1,
   "id": "fa596802-503d-4af3-b267-c63616e27f1f",
   "metadata": {},
   "outputs": [],
   "source": [
    "import pandas as pd\n",
    "import numpy as np\n",
    "import matplotlib.pyplot as plt\n",
    "import seaborn as sns\n",
    "from skbio.stats.ordination import pcoa \n",
    "\n",
    "class DataFrameValidationError(Exception):\n",
    "    def __init__(self):\n",
    "        super().__init__(f\"The input used doesn't have the correct format. Please check your input and try again.\")\n",
    "\n",
    "def composition(CountsDataFrame, options:str):\n",
    "    \"\"\"\n",
    "    Transform the counts table into compositions:\n",
    "\n",
    "    Args:\n",
    "    _____\n",
    "    DataFrame (int): Dataframe containing count values\n",
    "    options:\n",
    "    freq - Transform the table into frequencies\n",
    "    perc - Transform the table into percentages\n",
    "\n",
    "    Return:\n",
    "    _______\n",
    "        Dataframe containing compositional data\n",
    "    \"\"\"\n",
    "\n",
    "    CountsDataFrame = CountsDataFrame.replace(0,1)\n",
    "    if validate_counts(CountsDataFrame) ==False:\n",
    "        raise DataFrameValidationError\n",
    "    else:\n",
    "        match options:\n",
    "            case \"freq\":\n",
    "                return(CountsDataFrame.div(CountsDataFrame.sum(axis=0)))\n",
    "            case \"perc\":\n",
    "                return(CountsDataFrame.div(CountsDataFrame.sum(axis=0))*100)\n",
    "\n",
    "def validate_counts(DataFrame):\n",
    "    \"\"\"\n",
    "    Validate the input to check if the sum of components is\n",
    "    \n",
    "    different from a pre-defined upper-limit (1 or 100).\n",
    "    Args:\n",
    "    _____\n",
    "    DataFrame (int): Dataframe containing count values\n",
    "\n",
    "    Return:\n",
    "    _______\n",
    "        Boolean variable\n",
    "    \"\"\"\n",
    "    return(all(round(DataFrame.sum(),1)!=1.0) and all(DataFrame.sum()!=100.0))\n",
    "\n",
    "def validate_composition(DataFrame):\n",
    "    \"\"\"\n",
    "    Validate the input to check if the sum of components is 1 or 100.\n",
    "    \n",
    "    Args:\n",
    "    _____\n",
    "    DataFrame (float): Dataframe containing compositional data\n",
    "\n",
    "    Return:\n",
    "    _______\n",
    "        Boolean variable\n",
    "    \"\"\"\n",
    "    return(all(round(DataFrame.sum(),1)==1.0) or all(round(DataFrame.sum(),1)==100.0))\n",
    "    \n",
    "def clr(DataFrame):\n",
    "    \"\"\"\n",
    "    Transform the compositional table into Centered log-ratios\n",
    "    CLR = log(Composition/geometric mean)\n",
    "\n",
    "    Args:\n",
    "    _____\n",
    "    DataFrame (float): Dataframe containing compositional data.\n",
    "\n",
    "    Return:\n",
    "    _______\n",
    "        CLR transformed dataframe\n",
    "    \"\"\"\n",
    "    if validate_composition(DataFrame) ==False:\n",
    "        raise DataFrameValidationError\n",
    "    else:\n",
    "        DataFrame = DataFrame.T\n",
    "        gmeans = np.log(DataFrame).mean()\n",
    "        clr = np.log(DataFrame)-gmeans\n",
    "        return(clr)\n",
    "\n",
    "\n",
    "def Aitchison_Distance(Dataframe):\n",
    "    \"\"\"\n",
    "    Calculate the euclidian distance between samples based on CLR transformed data.\n",
    "\n",
    "    Args:\n",
    "    _____\n",
    "    DataFrame (float): Dataframe containing clr-transformed data.\n",
    "    \n",
    "    Return:\n",
    "    _______\n",
    "    Dataframe containing the euclidian distance between samples.\n",
    "    \"\"\"\n",
    "    aitchison_distance = squareform(pdist(Dataframe))\n",
    "    aitchison_distance = pd.DataFrame(aitchison_distance, index=Dataframe.index, columns=Dataframe.index)\n",
    "    return aitchison_distance\n",
    "\n",
    "def pcoaPlot(DataFrameDistance, Metadata):\n",
    "    \"\"\"\n",
    "    Calculate the pcoa from A distance matrix and displays it using a a scatter plot.\n",
    "\n",
    "    Args:\n",
    "    _____\n",
    "    DataFrameDistance (float): Dataframe containing a distance, such as Aitchison distance.\n",
    "    But can be in fact any distance.\n",
    "    Metadata (string): A grouping factor used to color code the samples.\n",
    "    \n",
    "    Return:\n",
    "    _______\n",
    "    a scatter plot.\n",
    "    \"\"\"\n",
    "    pcoa_results = pcoa(DataFrameDistance)\n",
    "    sns.relplot(data=pcoa_results.samples[[\"PC1\",\"PC2\"]], x = \"PC1\", y=\"PC2\", hue=Metadata)\n",
    "    \n"
   ]
  },
  {
   "cell_type": "markdown",
   "id": "77121f0f-c385-40e4-8100-3e5bf858c3b4",
   "metadata": {},
   "source": [
    "<div style = \"padding-top:10px; padding-bottom:10px;\">\n",
    "    <h4>Exercise 1:</h4>\n",
    "    <p>Load the ASVTable.tsv, Taxonomy_table.tsv, alpha_diversity.tsv and metadata.tsv in corresponding variables (Be mindful of the variable name) using the read_table() method, and set the attribute index_col = 0.</p>\n",
    "</div>"
   ]
  },
  {
   "cell_type": "code",
   "execution_count": null,
   "id": "c35d61cd-afcc-4e89-bba7-cb95999cb8bb",
   "metadata": {},
   "outputs": [],
   "source": []
  },
  {
   "cell_type": "code",
   "execution_count": null,
   "id": "c4c1e188-45a9-4052-955d-14f7dd3d0911",
   "metadata": {},
   "outputs": [],
   "source": []
  },
  {
   "cell_type": "markdown",
   "id": "d05ce5b8-b0ee-4845-b94e-b0e15af51926",
   "metadata": {},
   "source": [
    "<div style = \"padding-top:10px; padding-bottom:10px;\">\n",
    "    <h4>Exercise 2:</h4>\n",
    "    <p>Transform the asvs into a composition (Either frequencies or percentages and save it into a new variable. Which ASV is the most abundant in the first sample?. Query the taxonomy table to identify the taxonomy information of this particular ASV. What is the highest taxonomical level you can identify?</p>\n",
    "    <p>To select the first sample you will need to use the method <strong>.iloc[0]</strong>, and to identify the most abundant one, you will need to sort the values :).</p>\n",
    "</div>"
   ]
  },
  {
   "cell_type": "code",
   "execution_count": null,
   "id": "6ab561e8-9ec2-4ebc-b5a6-d15490115d63",
   "metadata": {},
   "outputs": [],
   "source": []
  },
  {
   "cell_type": "code",
   "execution_count": null,
   "id": "dbe8b960-8212-4775-9244-783934820a85",
   "metadata": {},
   "outputs": [],
   "source": []
  },
  {
   "cell_type": "markdown",
   "id": "093288ed-4dc4-4288-a5c6-e8fc2282f0fb",
   "metadata": {},
   "source": [
    "<div style = \"padding-top:10px; padding-bottom:10px;\">\n",
    "    <h4>Exercise 3:</h4>\n",
    "    <p>For this exercise you will merge the asvs with the metadata using their indexes and group the whole dataframe using the columns <strong>\"Diet\"</strong> and <strong>\"Biome\"</strong>, and yes, we will do a 2 level grouping. After that you will calculate their mean value (use the .mean() method) and then transpose the dataframe. Can you identify the most abundant ASV in each Biome for the Byproduct diet? What are their taxonomic information?</p>\n",
    "</div>"
   ]
  },
  {
   "cell_type": "code",
   "execution_count": null,
   "id": "99a3296e-ece2-486c-9777-6125f875f729",
   "metadata": {},
   "outputs": [],
   "source": []
  },
  {
   "cell_type": "code",
   "execution_count": null,
   "id": "e3bfcafc-1608-4f1a-b07b-0f40f3e95ee7",
   "metadata": {},
   "outputs": [],
   "source": []
  },
  {
   "cell_type": "markdown",
   "id": "5a6d3d4b-6670-438b-9f8f-12f6a27965cc",
   "metadata": {},
   "source": [
    "<div style = \"padding-top:10px; padding-bottom:10px;\">\n",
    "    <p>Next, create two new variables to contain count data for only samples fed Conventional or Byproduct diets, it sounds difficult but this is far from the truth. When you did the 2-level grouping, each diet became a column containing all the information, so, if you call your grouped dataframe passing the name of a diet, like \"Byproduct\", you will have everything ready. Quite handy, isn't it?</p>\n",
    "</div>"
   ]
  },
  {
   "cell_type": "code",
   "execution_count": null,
   "id": "94346779-ee99-47af-99a5-d98887b23255",
   "metadata": {},
   "outputs": [],
   "source": []
  },
  {
   "cell_type": "markdown",
   "id": "265cc47f-0546-4a31-bc8e-7a427ddabf01",
   "metadata": {},
   "source": [
    "<div style = \"padding-top:10px; padding-bottom:10px;\">\n",
    "    <p>Can you identify the most abundant ASV in each Biome for the Byproduct diet? What are their taxonomic information?</p>\n",
    "</div>"
   ]
  },
  {
   "cell_type": "code",
   "execution_count": null,
   "id": "deb8ac36-f0ac-4026-9eba-cadfe9fb4b79",
   "metadata": {},
   "outputs": [],
   "source": []
  },
  {
   "cell_type": "markdown",
   "id": "e1b960f7-8881-432a-84bd-b85a8f269eb5",
   "metadata": {},
   "source": [
    "<div style = \"padding-top:10px; padding-bottom:10px;\">\n",
    "    <h4>Exercise 4:</h4>\n",
    "    <p>For this exercise we will merge the Dataframe containing the counts of all samples with the Taxonomy dataframe. Do the same with the grouped dataframes. Save them into new variables and save it for later. Pay attention to the orientation of the tables' axis (You will have to transpose one of the ASV tables before the merging, which one will be???)</p>\n",
    "</div>"
   ]
  },
  {
   "cell_type": "code",
   "execution_count": null,
   "id": "384a6012-02df-4417-8abd-ba4c3394fe30",
   "metadata": {},
   "outputs": [],
   "source": []
  },
  {
   "cell_type": "markdown",
   "id": "d89cd228-8597-4f89-b5cb-100c64b8473f",
   "metadata": {},
   "source": [
    "<div style = \"padding-top:10px; padding-bottom:10px;\">\n",
    "    <h4>Exercise 5:</h4>\n",
    "    <p>For this one we will transform our data into <strong>Centred log-ratio</strong>. For that we will start with the composition table, however... you will have to re-make it. Why you ask? It's because you can't divide anything by 0. How can we solve it? We need to add a pseudo-count. In other words, we will change any 0 by one in the original table and then, and only then we will recalculate our composition.</p>\n",
    "    <p>To do that we will do the following:</p>\n",
    "    <p><center><span>full_Asvs<strong>.replace</strong>(0,1, inplace=<span style=\"color:green\">True</span>)</span></strong></p>\n",
    "</div>"
   ]
  },
  {
   "cell_type": "code",
   "execution_count": null,
   "id": "82c4b378-81a6-4677-9819-1613a422138d",
   "metadata": {},
   "outputs": [],
   "source": []
  },
  {
   "cell_type": "markdown",
   "id": "bb6302dd-8230-4432-92be-b47d68f149ed",
   "metadata": {},
   "source": [
    "<div style = \"padding-top:10px; padding-bottom:10px;\">\n",
    "    <p>After you transform your CLR dataframe, do a sanity check. The sum of each transformed ASV should be zero or something <strong>REALLY</strong> close to zero. If this is not the case, go back to your code because you certainly made a mistake (Which is <span style=\"color:blue;font-weight:bold;\">ok</span>).</p>\n",
    "</div>\n"
   ]
  },
  {
   "cell_type": "markdown",
   "id": "3a4bc913-a3bd-4429-8157-353003bf1c66",
   "metadata": {},
   "source": [
    "<div style = \"padding-top:10px; padding-bottom:10px;\">\n",
    "    <h4>Exercise 6:</h4>\n",
    "    <p>Let's revisit the output of <strong>Exercise 4</strong>. Use them to create a stacked barplot for <strong style=\"color:green;\">Genus</strong> level. Can you also do it for <strong style=\"color:blue;\">Family</strong> level? No? ok, I'll give you some hints:</p>\n",
    "    <ol>\n",
    "      <li>You will drop all rows with the unwanted taxonomic levels using the <em>drop</em> method, like this:</li>  \n",
    "        <ul><li>dataframe.drop([...\"Class\", \"Family\"])</li></ul>\n",
    "    <li>You will group the dataframe using the Dataframe using the desired taxonomic level as the grouping factor, and chain this using the <strong>.sum()</strong> method.</li>\n",
    "        <li>Then you will transform it into a composition! Now you can create a barplot.</li>\n",
    "    </ol>\n",
    "</div>"
   ]
  },
  {
   "cell_type": "code",
   "execution_count": null,
   "id": "2781a9fa-3a9a-4b7d-8fd5-f0a8825fc965",
   "metadata": {},
   "outputs": [],
   "source": []
  },
  {
   "cell_type": "code",
   "execution_count": null,
   "id": "0200f01a-24e8-4fe2-b16b-35ec1065b63c",
   "metadata": {},
   "outputs": [],
   "source": []
  },
  {
   "cell_type": "markdown",
   "id": "ad9d9bb0-22ca-4923-a302-c079ad2343d8",
   "metadata": {},
   "source": [
    "<div style = \"padding-top:10px; padding-bottom:10px;\">\n",
    "    <p>The plot is ugly as hell and it doesn't make much sense at all! How can we fix it and improve it?</p>\n",
    "    <p>Well, first we need to sort the values of the compositional table, to \"order\" the components of the plot itself. Then we need to limit the number of elements in the legend and change the position of the legend.</p>\n",
    "    <p>To limit the number of elements of the legend you will have to:</p>\n",
    "    <ol>\n",
    "      <li>Remake the plot by creating an <strong>ax</strong>, a subplot object in matplotlib.</li>  \n",
    "    <li>Then you will extract the handles and labels from the object.</li>\n",
    "    <li>You will then select a \"slice\" of it, let's say, the top 10 and update the legend.</li>\n",
    "    </ol>\n",
    "    <p>I will show how to do it using an example bellow:</p>\n",
    "</div>"
   ]
  },
  {
   "cell_type": "code",
   "execution_count": 150,
   "id": "b26bac86-f8b8-4732-95b4-467936b17876",
   "metadata": {},
   "outputs": [
    {
     "data": {
      "text/plain": [
       "<matplotlib.legend.Legend at 0x346b45b50>"
      ]
     },
     "execution_count": 150,
     "metadata": {},
     "output_type": "execute_result"
    },
    {
     "data": {
      "image/png": "[encoded data removed]",
      "text/plain": [
       "<Figure size 640x480 with 1 Axes>"
      ]
     },
     "metadata": {},
     "output_type": "display_data"
    }
   ],
   "source": [
    "df = pd.DataFrame(np.random.rand(6, 4),\n",
    "                  index=['one', 'two', 'three', 'four', 'five', \n",
    "                         'six'],\n",
    "                  columns=pd.Index(['Klebsiella', 'Escherichia', \n",
    "                                    'Pneumonas', 'Treponema'], name='Genus'))\n",
    "ax = df.plot(kind=\"bar\", stacked=True)\n",
    "\n",
    "\"\"\"\n",
    "I will limit the number of elements in the legend to the first 2 (not the top 2, this you\n",
    "will have to figure it out yourselves)\n",
    "\"\"\"\n",
    "\n",
    "handles, labels = ax.get_legend_handles_labels()\n",
    "\n",
    "# Limit the number of elements in the legend to the top 2\n",
    "limited_handles = handles[:2]\n",
    "limited_labels = labels[:2]\n",
    "ax.legend(limited_handles, limited_labels, loc='upper left', bbox_to_anchor=(1, 1))\n",
    "\n",
    "\"\"\"\n",
    "The loc attribute will place the legend in a region of the plot, and the bbox_to_anchor\n",
    "\n",
    "will accept two coordinates, so you can play with it to position your legend accuratelly.\n",
    "\"\"\""
   ]
  },
  {
   "cell_type": "markdown",
   "id": "46f57ed6-2516-4f51-a65a-cebc8bfb01e2",
   "metadata": {},
   "source": [
    "<p>Now you do it yourself!</p>"
   ]
  },
  {
   "cell_type": "code",
   "execution_count": null,
   "id": "a973c134-1511-4648-a145-a97422ec630b",
   "metadata": {},
   "outputs": [],
   "source": []
  },
  {
   "cell_type": "markdown",
   "id": "a4af6d34-6c8e-458a-bbae-592df1cd5784",
   "metadata": {},
   "source": [
    "<div style = \"padding-top:10px; padding-bottom:10px;\">\n",
    "    <h4>Exercise 7:</h4>\n",
    "    <p>Create a strip plot using the alpha diversity data! (Shannon diversity or richness)</p>\n",
    "</div>"
   ]
  },
  {
   "cell_type": "code",
   "execution_count": null,
   "id": "5b89e244-79c1-42ab-a24c-392505484015",
   "metadata": {},
   "outputs": [],
   "source": []
  },
  {
   "cell_type": "code",
   "execution_count": null,
   "id": "27a8e65e-f545-4382-8c2d-e2870b636fbc",
   "metadata": {},
   "outputs": [],
   "source": []
  },
  {
   "cell_type": "markdown",
   "id": "a8105093-f63d-4083-84f9-e53d5be8a50a",
   "metadata": {},
   "source": [
    "<p>It looks suspicioulsy similar to a boxplot, doesn't it? Why don't you give it a go and create a boxplot? Just change the name catplot to boxplot :).</p>"
   ]
  },
  {
   "cell_type": "code",
   "execution_count": null,
   "id": "ff2dfc17-b665-456a-af55-b1920674109c",
   "metadata": {},
   "outputs": [],
   "source": []
  },
  {
   "cell_type": "markdown",
   "id": "799e0369-6d5a-4bcf-966c-4b4723a71ea8",
   "metadata": {},
   "source": [
    "<div style = \"padding-top:10px; padding-bottom:10px;\">\n",
    "    <h4>Exercise 8:</h4>\n",
    "    <p>Lastly, transform your compositional data frame containing ASV level data (From exercise <strong>4</strong> and use it to calculate the aitchison distance. We have a function for it inside the first cell on this notebook called <strong>Aitchison_Distance</strong>, check it's details to understand what type of data the function will accept.</p> \n",
    "    <p>Use the transformed Dataframe as input to a PcoA analysis and plot the result.  and use the output to generate the Principal Coordinate analysis. Use the output of the provided functions to create a relplot using seaborn. Luckily we also have a function for that called <strong>pcoaPlot</strong>. You are very welcome.</p>\n",
    "</div>"
   ]
  },
  {
   "cell_type": "code",
   "execution_count": 1,
   "id": "67fec4f8-1ee8-4bfc-97eb-853fbd46a0b6",
   "metadata": {},
   "outputs": [],
   "source": []
  },
  {
   "cell_type": "code",
   "execution_count": null,
   "id": "0c93373d-c05b-45de-ae0c-adc55ce2e571",
   "metadata": {},
   "outputs": [],
   "source": []
  }
 ],
 "metadata": {
  "kernelspec": {
   "display_name": "Python 3 (ipykernel)",
   "language": "python",
   "name": "python3"
  },
  "language_info": {
   "codemirror_mode": {
    "name": "ipython",
    "version": 3
   },
   "file_extension": ".py",
   "mimetype": "text/x-python",
   "name": "python",
   "nbconvert_exporter": "python",
   "pygments_lexer": "ipython3",
   "version": "3.12.2"
  }
 },
 "nbformat": 4,
 "nbformat_minor": 5
}
